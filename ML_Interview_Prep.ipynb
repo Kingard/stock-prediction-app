{
  "nbformat": 4,
  "nbformat_minor": 0,
  "metadata": {
    "colab": {
      "name": "ML-Interview-Prep.ipynb",
      "provenance": []
    },
    "kernelspec": {
      "name": "python3",
      "display_name": "Python 3"
    },
    "language_info": {
      "name": "python"
    }
  },
  "cells": [
    {
      "cell_type": "code",
      "execution_count": 41,
      "metadata": {
        "id": "seVMSC_jBAXM"
      },
      "outputs": [],
      "source": [
        "import numpy as np\n",
        "import pandas as pd\n",
        "import matplotlib.pyplot as plt\n",
        "import pandas_datareader"
      ]
    },
    {
      "cell_type": "code",
      "source": [
        "! pip install fix-yahoo-finance==0.1.30"
      ],
      "metadata": {
        "colab": {
          "base_uri": "https://localhost:8080/"
        },
        "id": "WvwXxF_wBSpH",
        "outputId": "5ed9d728-b648-4eee-f94b-894951466a40"
      },
      "execution_count": 42,
      "outputs": [
        {
          "output_type": "stream",
          "name": "stdout",
          "text": [
            "Requirement already satisfied: fix-yahoo-finance==0.1.30 in /usr/local/lib/python3.7/dist-packages (0.1.30)\n",
            "Requirement already satisfied: pandas in /usr/local/lib/python3.7/dist-packages (from fix-yahoo-finance==0.1.30) (1.3.5)\n",
            "Requirement already satisfied: multitasking in /usr/local/lib/python3.7/dist-packages (from fix-yahoo-finance==0.1.30) (0.0.10)\n",
            "Requirement already satisfied: requests in /usr/local/lib/python3.7/dist-packages (from fix-yahoo-finance==0.1.30) (2.27.1)\n",
            "Requirement already satisfied: numpy in /usr/local/lib/python3.7/dist-packages (from fix-yahoo-finance==0.1.30) (1.21.5)\n",
            "Requirement already satisfied: pytz>=2017.3 in /usr/local/lib/python3.7/dist-packages (from pandas->fix-yahoo-finance==0.1.30) (2018.9)\n",
            "Requirement already satisfied: python-dateutil>=2.7.3 in /usr/local/lib/python3.7/dist-packages (from pandas->fix-yahoo-finance==0.1.30) (2.8.2)\n",
            "Requirement already satisfied: six>=1.5 in /usr/local/lib/python3.7/dist-packages (from python-dateutil>=2.7.3->pandas->fix-yahoo-finance==0.1.30) (1.15.0)\n",
            "Requirement already satisfied: idna<4,>=2.5 in /usr/local/lib/python3.7/dist-packages (from requests->fix-yahoo-finance==0.1.30) (2.10)\n",
            "Requirement already satisfied: urllib3<1.27,>=1.21.1 in /usr/local/lib/python3.7/dist-packages (from requests->fix-yahoo-finance==0.1.30) (1.24.3)\n",
            "Requirement already satisfied: charset-normalizer~=2.0.0 in /usr/local/lib/python3.7/dist-packages (from requests->fix-yahoo-finance==0.1.30) (2.0.11)\n",
            "Requirement already satisfied: certifi>=2017.4.17 in /usr/local/lib/python3.7/dist-packages (from requests->fix-yahoo-finance==0.1.30) (2021.10.8)\n"
          ]
        }
      ]
    },
    {
      "cell_type": "code",
      "source": [
        "! pip install yfinance\n",
        "import yfinance as yf"
      ],
      "metadata": {
        "colab": {
          "base_uri": "https://localhost:8080/"
        },
        "id": "p4Liz_f0CJfD",
        "outputId": "44909be8-1049-4f6c-a5c8-1a687617ab3a"
      },
      "execution_count": 43,
      "outputs": [
        {
          "output_type": "stream",
          "name": "stdout",
          "text": [
            "Requirement already satisfied: yfinance in /usr/local/lib/python3.7/dist-packages (0.1.70)\n",
            "Requirement already satisfied: numpy>=1.15 in /usr/local/lib/python3.7/dist-packages (from yfinance) (1.21.5)\n",
            "Requirement already satisfied: requests>=2.26 in /usr/local/lib/python3.7/dist-packages (from yfinance) (2.27.1)\n",
            "Requirement already satisfied: lxml>=4.5.1 in /usr/local/lib/python3.7/dist-packages (from yfinance) (4.8.0)\n",
            "Requirement already satisfied: pandas>=0.24.0 in /usr/local/lib/python3.7/dist-packages (from yfinance) (1.3.5)\n",
            "Requirement already satisfied: multitasking>=0.0.7 in /usr/local/lib/python3.7/dist-packages (from yfinance) (0.0.10)\n",
            "Requirement already satisfied: python-dateutil>=2.7.3 in /usr/local/lib/python3.7/dist-packages (from pandas>=0.24.0->yfinance) (2.8.2)\n",
            "Requirement already satisfied: pytz>=2017.3 in /usr/local/lib/python3.7/dist-packages (from pandas>=0.24.0->yfinance) (2018.9)\n",
            "Requirement already satisfied: six>=1.5 in /usr/local/lib/python3.7/dist-packages (from python-dateutil>=2.7.3->pandas>=0.24.0->yfinance) (1.15.0)\n",
            "Requirement already satisfied: urllib3<1.27,>=1.21.1 in /usr/local/lib/python3.7/dist-packages (from requests>=2.26->yfinance) (1.24.3)\n",
            "Requirement already satisfied: idna<4,>=2.5 in /usr/local/lib/python3.7/dist-packages (from requests>=2.26->yfinance) (2.10)\n",
            "Requirement already satisfied: certifi>=2017.4.17 in /usr/local/lib/python3.7/dist-packages (from requests>=2.26->yfinance) (2021.10.8)\n",
            "Requirement already satisfied: charset-normalizer~=2.0.0 in /usr/local/lib/python3.7/dist-packages (from requests>=2.26->yfinance) (2.0.11)\n"
          ]
        }
      ]
    },
    {
      "cell_type": "code",
      "source": [
        "yf"
      ],
      "metadata": {
        "colab": {
          "base_uri": "https://localhost:8080/"
        },
        "id": "omDAe3lRCMqp",
        "outputId": "2005cbd1-01ec-4539-e7b2-4dfebe9a963b"
      },
      "execution_count": 44,
      "outputs": [
        {
          "output_type": "execute_result",
          "data": {
            "text/plain": [
              "<module 'yfinance' from '/usr/local/lib/python3.7/dist-packages/yfinance/__init__.py'>"
            ]
          },
          "metadata": {},
          "execution_count": 44
        }
      ]
    },
    {
      "cell_type": "code",
      "source": [
        "stock_of_choice = yf.Ticker('AMZN')\n"
      ],
      "metadata": {
        "id": "pMtODGrSCgHl"
      },
      "execution_count": 45,
      "outputs": []
    },
    {
      "cell_type": "code",
      "source": [
        "# pip install streamlit fbprophet yfinance plotly\n",
        "# from fbprophet import Prophet\n",
        "# from fbprophet.plot import plot_plotly\n",
        "# from plotly import graph_objs as go"
      ],
      "metadata": {
        "id": "7vH7F9vpCwVz"
      },
      "execution_count": 46,
      "outputs": []
    },
    {
      "cell_type": "code",
      "source": [
        "data_x = yf.download('AMZN')"
      ],
      "metadata": {
        "colab": {
          "base_uri": "https://localhost:8080/"
        },
        "id": "F_j6fJR7tG4G",
        "outputId": "4f0033d1-9918-4a12-db20-85b01fcefbee"
      },
      "execution_count": 47,
      "outputs": [
        {
          "output_type": "stream",
          "name": "stdout",
          "text": [
            "\r[*********************100%***********************]  1 of 1 completed\n"
          ]
        }
      ]
    },
    {
      "cell_type": "code",
      "source": [
        "data_x.index"
      ],
      "metadata": {
        "colab": {
          "base_uri": "https://localhost:8080/"
        },
        "id": "Z6Vjoiw1tK18",
        "outputId": "c392a8d7-2dbf-4021-e6d1-77dbc0bdb0b4"
      },
      "execution_count": 48,
      "outputs": [
        {
          "output_type": "execute_result",
          "data": {
            "text/plain": [
              "DatetimeIndex(['1997-05-15', '1997-05-16', '1997-05-19', '1997-05-20',\n",
              "               '1997-05-21', '1997-05-22', '1997-05-23', '1997-05-27',\n",
              "               '1997-05-28', '1997-05-29',\n",
              "               ...\n",
              "               '2022-02-07', '2022-02-08', '2022-02-09', '2022-02-10',\n",
              "               '2022-02-11', '2022-02-14', '2022-02-15', '2022-02-16',\n",
              "               '2022-02-17', '2022-02-18'],\n",
              "              dtype='datetime64[ns]', name='Date', length=6234, freq=None)"
            ]
          },
          "metadata": {},
          "execution_count": 48
        }
      ]
    },
    {
      "cell_type": "code",
      "source": [
        "data_x.columns"
      ],
      "metadata": {
        "id": "v9SmrX0eQYNk",
        "outputId": "ce9b91cc-8e5c-452b-fee3-83edeee62dc0",
        "colab": {
          "base_uri": "https://localhost:8080/"
        }
      },
      "execution_count": 49,
      "outputs": [
        {
          "output_type": "execute_result",
          "data": {
            "text/plain": [
              "Index(['Open', 'High', 'Low', 'Close', 'Adj Close', 'Volume'], dtype='object')"
            ]
          },
          "metadata": {},
          "execution_count": 49
        }
      ]
    },
    {
      "cell_type": "code",
      "source": [
        "type(data_x)"
      ],
      "metadata": {
        "id": "shQwDUNEUxF7",
        "outputId": "5fb24716-2f8c-4d0e-a8b7-f926636e0ab3",
        "colab": {
          "base_uri": "https://localhost:8080/"
        }
      },
      "execution_count": 50,
      "outputs": [
        {
          "output_type": "execute_result",
          "data": {
            "text/plain": [
              "pandas.core.frame.DataFrame"
            ]
          },
          "metadata": {},
          "execution_count": 50
        }
      ]
    },
    {
      "cell_type": "code",
      "source": [
        "data_x['% Returns'] = data_x.Close.pct_change() # we find the percentage change using the pct_change() method\n",
        "data_x['Log returns'] = np.log(1 + data_x['% Returns']) # from the percentage returns we can easily compute log returns\n",
        "data_x.dropna(inplace=True) # We drop all null/NaN values so that we do not get a value error"
      ],
      "metadata": {
        "id": "1Ohf4dofP-qS"
      },
      "execution_count": 51,
      "outputs": []
    },
    {
      "cell_type": "code",
      "source": [
        "data_x.head()"
      ],
      "metadata": {
        "id": "JGCyDhxxP-wF",
        "outputId": "18edbbec-41d8-4f54-8ebb-ef169dbfd438",
        "colab": {
          "base_uri": "https://localhost:8080/",
          "height": 235
        }
      },
      "execution_count": 52,
      "outputs": [
        {
          "output_type": "execute_result",
          "data": {
            "text/html": [
              "\n",
              "  <div id=\"df-54e38548-5004-480d-b878-db2da478949c\">\n",
              "    <div class=\"colab-df-container\">\n",
              "      <div>\n",
              "<style scoped>\n",
              "    .dataframe tbody tr th:only-of-type {\n",
              "        vertical-align: middle;\n",
              "    }\n",
              "\n",
              "    .dataframe tbody tr th {\n",
              "        vertical-align: top;\n",
              "    }\n",
              "\n",
              "    .dataframe thead th {\n",
              "        text-align: right;\n",
              "    }\n",
              "</style>\n",
              "<table border=\"1\" class=\"dataframe\">\n",
              "  <thead>\n",
              "    <tr style=\"text-align: right;\">\n",
              "      <th></th>\n",
              "      <th>Open</th>\n",
              "      <th>High</th>\n",
              "      <th>Low</th>\n",
              "      <th>Close</th>\n",
              "      <th>Adj Close</th>\n",
              "      <th>Volume</th>\n",
              "      <th>% Returns</th>\n",
              "      <th>Log returns</th>\n",
              "    </tr>\n",
              "    <tr>\n",
              "      <th>Date</th>\n",
              "      <th></th>\n",
              "      <th></th>\n",
              "      <th></th>\n",
              "      <th></th>\n",
              "      <th></th>\n",
              "      <th></th>\n",
              "      <th></th>\n",
              "      <th></th>\n",
              "    </tr>\n",
              "  </thead>\n",
              "  <tbody>\n",
              "    <tr>\n",
              "      <th>1997-05-16</th>\n",
              "      <td>1.968750</td>\n",
              "      <td>1.979167</td>\n",
              "      <td>1.708333</td>\n",
              "      <td>1.729167</td>\n",
              "      <td>1.729167</td>\n",
              "      <td>14700000</td>\n",
              "      <td>-0.117021</td>\n",
              "      <td>-0.124454</td>\n",
              "    </tr>\n",
              "    <tr>\n",
              "      <th>1997-05-19</th>\n",
              "      <td>1.760417</td>\n",
              "      <td>1.770833</td>\n",
              "      <td>1.625000</td>\n",
              "      <td>1.708333</td>\n",
              "      <td>1.708333</td>\n",
              "      <td>6106800</td>\n",
              "      <td>-0.012049</td>\n",
              "      <td>-0.012122</td>\n",
              "    </tr>\n",
              "    <tr>\n",
              "      <th>1997-05-20</th>\n",
              "      <td>1.729167</td>\n",
              "      <td>1.750000</td>\n",
              "      <td>1.635417</td>\n",
              "      <td>1.635417</td>\n",
              "      <td>1.635417</td>\n",
              "      <td>5467200</td>\n",
              "      <td>-0.042683</td>\n",
              "      <td>-0.043620</td>\n",
              "    </tr>\n",
              "    <tr>\n",
              "      <th>1997-05-21</th>\n",
              "      <td>1.635417</td>\n",
              "      <td>1.645833</td>\n",
              "      <td>1.375000</td>\n",
              "      <td>1.427083</td>\n",
              "      <td>1.427083</td>\n",
              "      <td>18853200</td>\n",
              "      <td>-0.127389</td>\n",
              "      <td>-0.136265</td>\n",
              "    </tr>\n",
              "    <tr>\n",
              "      <th>1997-05-22</th>\n",
              "      <td>1.437500</td>\n",
              "      <td>1.447917</td>\n",
              "      <td>1.312500</td>\n",
              "      <td>1.395833</td>\n",
              "      <td>1.395833</td>\n",
              "      <td>11776800</td>\n",
              "      <td>-0.021898</td>\n",
              "      <td>-0.022141</td>\n",
              "    </tr>\n",
              "  </tbody>\n",
              "</table>\n",
              "</div>\n",
              "      <button class=\"colab-df-convert\" onclick=\"convertToInteractive('df-54e38548-5004-480d-b878-db2da478949c')\"\n",
              "              title=\"Convert this dataframe to an interactive table.\"\n",
              "              style=\"display:none;\">\n",
              "        \n",
              "  <svg xmlns=\"http://www.w3.org/2000/svg\" height=\"24px\"viewBox=\"0 0 24 24\"\n",
              "       width=\"24px\">\n",
              "    <path d=\"M0 0h24v24H0V0z\" fill=\"none\"/>\n",
              "    <path d=\"M18.56 5.44l.94 2.06.94-2.06 2.06-.94-2.06-.94-.94-2.06-.94 2.06-2.06.94zm-11 1L8.5 8.5l.94-2.06 2.06-.94-2.06-.94L8.5 2.5l-.94 2.06-2.06.94zm10 10l.94 2.06.94-2.06 2.06-.94-2.06-.94-.94-2.06-.94 2.06-2.06.94z\"/><path d=\"M17.41 7.96l-1.37-1.37c-.4-.4-.92-.59-1.43-.59-.52 0-1.04.2-1.43.59L10.3 9.45l-7.72 7.72c-.78.78-.78 2.05 0 2.83L4 21.41c.39.39.9.59 1.41.59.51 0 1.02-.2 1.41-.59l7.78-7.78 2.81-2.81c.8-.78.8-2.07 0-2.86zM5.41 20L4 18.59l7.72-7.72 1.47 1.35L5.41 20z\"/>\n",
              "  </svg>\n",
              "      </button>\n",
              "      \n",
              "  <style>\n",
              "    .colab-df-container {\n",
              "      display:flex;\n",
              "      flex-wrap:wrap;\n",
              "      gap: 12px;\n",
              "    }\n",
              "\n",
              "    .colab-df-convert {\n",
              "      background-color: #E8F0FE;\n",
              "      border: none;\n",
              "      border-radius: 50%;\n",
              "      cursor: pointer;\n",
              "      display: none;\n",
              "      fill: #1967D2;\n",
              "      height: 32px;\n",
              "      padding: 0 0 0 0;\n",
              "      width: 32px;\n",
              "    }\n",
              "\n",
              "    .colab-df-convert:hover {\n",
              "      background-color: #E2EBFA;\n",
              "      box-shadow: 0px 1px 2px rgba(60, 64, 67, 0.3), 0px 1px 3px 1px rgba(60, 64, 67, 0.15);\n",
              "      fill: #174EA6;\n",
              "    }\n",
              "\n",
              "    [theme=dark] .colab-df-convert {\n",
              "      background-color: #3B4455;\n",
              "      fill: #D2E3FC;\n",
              "    }\n",
              "\n",
              "    [theme=dark] .colab-df-convert:hover {\n",
              "      background-color: #434B5C;\n",
              "      box-shadow: 0px 1px 3px 1px rgba(0, 0, 0, 0.15);\n",
              "      filter: drop-shadow(0px 1px 2px rgba(0, 0, 0, 0.3));\n",
              "      fill: #FFFFFF;\n",
              "    }\n",
              "  </style>\n",
              "\n",
              "      <script>\n",
              "        const buttonEl =\n",
              "          document.querySelector('#df-54e38548-5004-480d-b878-db2da478949c button.colab-df-convert');\n",
              "        buttonEl.style.display =\n",
              "          google.colab.kernel.accessAllowed ? 'block' : 'none';\n",
              "\n",
              "        async function convertToInteractive(key) {\n",
              "          const element = document.querySelector('#df-54e38548-5004-480d-b878-db2da478949c');\n",
              "          const dataTable =\n",
              "            await google.colab.kernel.invokeFunction('convertToInteractive',\n",
              "                                                     [key], {});\n",
              "          if (!dataTable) return;\n",
              "\n",
              "          const docLinkHtml = 'Like what you see? Visit the ' +\n",
              "            '<a target=\"_blank\" href=https://colab.research.google.com/notebooks/data_table.ipynb>data table notebook</a>'\n",
              "            + ' to learn more about interactive tables.';\n",
              "          element.innerHTML = '';\n",
              "          dataTable['output_type'] = 'display_data';\n",
              "          await google.colab.output.renderOutput(dataTable, element);\n",
              "          const docLink = document.createElement('div');\n",
              "          docLink.innerHTML = docLinkHtml;\n",
              "          element.appendChild(docLink);\n",
              "        }\n",
              "      </script>\n",
              "    </div>\n",
              "  </div>\n",
              "  "
            ],
            "text/plain": [
              "                Open      High       Low  ...    Volume  % Returns  Log returns\n",
              "Date                                      ...                                  \n",
              "1997-05-16  1.968750  1.979167  1.708333  ...  14700000  -0.117021    -0.124454\n",
              "1997-05-19  1.760417  1.770833  1.625000  ...   6106800  -0.012049    -0.012122\n",
              "1997-05-20  1.729167  1.750000  1.635417  ...   5467200  -0.042683    -0.043620\n",
              "1997-05-21  1.635417  1.645833  1.375000  ...  18853200  -0.127389    -0.136265\n",
              "1997-05-22  1.437500  1.447917  1.312500  ...  11776800  -0.021898    -0.022141\n",
              "\n",
              "[5 rows x 8 columns]"
            ]
          },
          "metadata": {},
          "execution_count": 52
        }
      ]
    },
    {
      "cell_type": "code",
      "source": [
        "import matplotlib.pyplot as plt"
      ],
      "metadata": {
        "id": "hIkyMvJKP-zm"
      },
      "execution_count": 53,
      "outputs": []
    },
    {
      "cell_type": "code",
      "source": [
        "data_x['Close'].plot(figsize=(12,8))"
      ],
      "metadata": {
        "id": "K8EW1BiLP-47",
        "outputId": "df7ac618-ae3a-47d4-b343-3846e1b37c84",
        "colab": {
          "base_uri": "https://localhost:8080/",
          "height": 482
        }
      },
      "execution_count": 54,
      "outputs": [
        {
          "output_type": "execute_result",
          "data": {
            "text/plain": [
              "<matplotlib.axes._subplots.AxesSubplot at 0x7fe4c9b28350>"
            ]
          },
          "metadata": {},
          "execution_count": 54
        },
        {
          "output_type": "display_data",
          "data": {
            "image/png": "[encoded data removed]",
            "text/plain": [
              "<Figure size 864x576 with 1 Axes>"
            ]
          },
          "metadata": {
            "needs_background": "light"
          }
        }
      ]
    },
    {
      "cell_type": "code",
      "source": [
        "data_x['Log returns'].plot(figsize=(11,8))"
      ],
      "metadata": {
        "id": "JhKBxdA3P-8T",
        "outputId": "25a726e7-fe42-4bb1-fcf7-c7fabe417454",
        "colab": {
          "base_uri": "https://localhost:8080/",
          "height": 482
        }
      },
      "execution_count": 55,
      "outputs": [
        {
          "output_type": "execute_result",
          "data": {
            "text/plain": [
              "<matplotlib.axes._subplots.AxesSubplot at 0x7fe44e470590>"
            ]
          },
          "metadata": {},
          "execution_count": 55
        },
        {
          "output_type": "display_data",
          "data": {
            "image/png": "[encoded data removed]",
            "text/plain": [
              "<Figure size 792x576 with 1 Axes>"
            ]
          },
          "metadata": {
            "needs_background": "light"
          }
        }
      ]
    },
    {
      "cell_type": "code",
      "source": [
        "x = data_x[['Close','Log returns']]"
      ],
      "metadata": {
        "id": "OTy_FI-PJmNF"
      },
      "execution_count": 56,
      "outputs": []
    },
    {
      "cell_type": "code",
      "source": [
        "from sklearn.preprocessing import MinMaxScaler\n",
        "scaler = MinMaxScaler(feature_range=(0,1)).fit(x)\n",
        "x_scaled = scaler.transform(x)"
      ],
      "metadata": {
        "id": "SieddkRgP_Bi"
      },
      "execution_count": 57,
      "outputs": []
    },
    {
      "cell_type": "code",
      "source": [
        "y = [x[0] for x in x_scaled]"
      ],
      "metadata": {
        "id": "2Q-GOpC5P_Gp"
      },
      "execution_count": 58,
      "outputs": []
    },
    {
      "cell_type": "code",
      "source": [
        "split_point = int(len(x_scaled)*0.8)\n",
        "split_point"
      ],
      "metadata": {
        "id": "PhOFO4UrP_KH",
        "outputId": "8798b10f-ef4c-484b-9f08-515c9403292f",
        "colab": {
          "base_uri": "https://localhost:8080/"
        }
      },
      "execution_count": 59,
      "outputs": [
        {
          "output_type": "execute_result",
          "data": {
            "text/plain": [
              "4986"
            ]
          },
          "metadata": {},
          "execution_count": 59
        }
      ]
    },
    {
      "cell_type": "code",
      "source": [
        "X_train = x_scaled[:split_point]\n",
        "y_train = y[:split_point]\n",
        "X_test = x_scaled[split_point:]\n",
        "y_test = y[split_point:]"
      ],
      "metadata": {
        "id": "XeMvWO5_P_PW"
      },
      "execution_count": 60,
      "outputs": []
    },
    {
      "cell_type": "code",
      "source": [
        "assert len(X_train) == len(y_train)\n",
        "assert len(X_test) == len(y_test)"
      ],
      "metadata": {
        "id": "IIfAdQpDP_S-"
      },
      "execution_count": 61,
      "outputs": []
    },
    {
      "cell_type": "code",
      "source": [
        "time_step = 3 # the time step for the LSTM model\n",
        "Xtrain = []\n",
        "ytrain = []\n",
        "Xtest = []\n",
        "ytest = []\n",
        "for i in range(time_step,len(X_train)):\n",
        "  Xtrain.append(X_train[i-time_step:i,:X_train.shape[1]]) # we want to use the last 3 days’ data to predict the next day\n",
        "  ytrain.append(y_train[i])\n",
        "for i in range(time_step, len(y_test)):\n",
        "  Xtest.append(X_test[i-time_step:i,:X_test.shape[1]])\n",
        "  ytest.append(y_test[i])\n"
      ],
      "metadata": {
        "id": "ejZesZuiP_Ws"
      },
      "execution_count": 62,
      "outputs": []
    },
    {
      "cell_type": "markdown",
      "source": [
        "The input structure of the LSTM architecture:\n",
        "- Number of observations\n",
        "- time steps\n",
        "- number of Features per step"
      ],
      "metadata": {
        "id": "RlkNtEz2RetD"
      }
    },
    {
      "cell_type": "code",
      "source": [
        "np.array(Xtrain).shape #We check for the shape of out train data"
      ],
      "metadata": {
        "id": "DB9yIS2FP_ac",
        "outputId": "ad568659-4f2a-471a-eaa5-28df1ed50f0a",
        "colab": {
          "base_uri": "https://localhost:8080/"
        }
      },
      "execution_count": 63,
      "outputs": [
        {
          "output_type": "execute_result",
          "data": {
            "text/plain": [
              "(4983, 3, 2)"
            ]
          },
          "metadata": {},
          "execution_count": 63
        }
      ]
    },
    {
      "cell_type": "code",
      "source": [
        "Xtrain, ytrain = np.array(Xtrain), np.array(ytrain)\n",
        "Xtrain = np.reshape(Xtrain,(Xtrain.shape[0],Xtrain.shape[1],Xtrain.shape[2]))\n",
        "Xtest, ytest = np.array(Xtest), np.array(ytest)\n",
        "Xtest = np.reshape(Xtest,(Xtest.shape[0],Xtest.shape[1],Xtest.shape[2]))"
      ],
      "metadata": {
        "id": "8B4q3JrlP_eL"
      },
      "execution_count": 64,
      "outputs": []
    },
    {
      "cell_type": "code",
      "source": [
        "from keras.models import Sequential\n",
        "from keras.layers import LSTM, Dense\n",
        "# the input shape comprises the time step and the number of obsevations\n",
        "model = Sequential()\n",
        "\n",
        "model.add(LSTM(10,input_shape=(Xtrain.shape[1],Xtrain.shape[2])))\n",
        "\n",
        "model.add(Dense(1))\n",
        "\n",
        "model.compile(loss='mean_squared_error',optimizer='adam')\n",
        "model.fit(\n",
        "  Xtrain,\n",
        "  ytrain,\n",
        "  epochs=100,\n",
        "  validation_data=(Xtest,ytest),\n",
        "  batch_size=16,\n",
        "  verbose=1)"
      ],
      "metadata": {
        "id": "unfREpaoP_jp",
        "outputId": "ba9c03fc-fd4a-4049-f33a-c6d32299f610",
        "colab": {
          "base_uri": "https://localhost:8080/"
        }
      },
      "execution_count": 65,
      "outputs": [
        {
          "output_type": "stream",
          "name": "stdout",
          "text": [
            "Epoch 1/100\n",
            "312/312 [==============================] - 5s 7ms/step - loss: 5.8820e-04 - val_loss: 5.5867e-04\n",
            "Epoch 2/100\n",
            "312/312 [==============================] - 1s 4ms/step - loss: 8.0359e-06 - val_loss: 3.0165e-04\n",
            "Epoch 3/100\n",
            "312/312 [==============================] - 2s 6ms/step - loss: 4.5837e-06 - val_loss: 2.6978e-04\n",
            "Epoch 4/100\n",
            "312/312 [==============================] - 2s 8ms/step - loss: 3.2465e-06 - val_loss: 4.2420e-04\n",
            "Epoch 5/100\n",
            "312/312 [==============================] - 2s 7ms/step - loss: 3.0502e-06 - val_loss: 7.8337e-04\n",
            "Epoch 6/100\n",
            "312/312 [==============================] - 2s 8ms/step - loss: 2.6829e-06 - val_loss: 7.2458e-04\n",
            "Epoch 7/100\n",
            "312/312 [==============================] - 2s 7ms/step - loss: 2.8527e-06 - val_loss: 0.0011\n",
            "Epoch 8/100\n",
            "312/312 [==============================] - 2s 7ms/step - loss: 2.8509e-06 - val_loss: 0.0015\n",
            "Epoch 9/100\n",
            "312/312 [==============================] - 2s 7ms/step - loss: 2.9030e-06 - val_loss: 0.0019\n",
            "Epoch 10/100\n",
            "312/312 [==============================] - 2s 8ms/step - loss: 2.9373e-06 - val_loss: 0.0019\n",
            "Epoch 11/100\n",
            "312/312 [==============================] - 2s 8ms/step - loss: 2.9311e-06 - val_loss: 0.0025\n",
            "Epoch 12/100\n",
            "312/312 [==============================] - 2s 6ms/step - loss: 3.1107e-06 - val_loss: 0.0019\n",
            "Epoch 13/100\n",
            "312/312 [==============================] - 2s 7ms/step - loss: 3.0871e-06 - val_loss: 0.0025\n",
            "Epoch 14/100\n",
            "312/312 [==============================] - 2s 7ms/step - loss: 3.1681e-06 - val_loss: 0.0022\n",
            "Epoch 15/100\n",
            "312/312 [==============================] - 3s 9ms/step - loss: 2.7985e-06 - val_loss: 0.0026\n",
            "Epoch 16/100\n",
            "312/312 [==============================] - 2s 5ms/step - loss: 2.8264e-06 - val_loss: 0.0025\n",
            "Epoch 17/100\n",
            "312/312 [==============================] - 1s 4ms/step - loss: 2.7934e-06 - val_loss: 0.0020\n",
            "Epoch 18/100\n",
            "312/312 [==============================] - 1s 4ms/step - loss: 3.1784e-06 - val_loss: 0.0021\n",
            "Epoch 19/100\n",
            "312/312 [==============================] - 1s 4ms/step - loss: 3.0144e-06 - val_loss: 0.0022\n",
            "Epoch 20/100\n",
            "312/312 [==============================] - 1s 4ms/step - loss: 3.2619e-06 - val_loss: 0.0021\n",
            "Epoch 21/100\n",
            "312/312 [==============================] - 1s 4ms/step - loss: 3.0806e-06 - val_loss: 0.0019\n",
            "Epoch 22/100\n",
            "312/312 [==============================] - 1s 4ms/step - loss: 2.6336e-06 - val_loss: 0.0017\n",
            "Epoch 23/100\n",
            "312/312 [==============================] - 1s 4ms/step - loss: 3.0291e-06 - val_loss: 0.0021\n",
            "Epoch 24/100\n",
            "312/312 [==============================] - 1s 4ms/step - loss: 2.8540e-06 - val_loss: 0.0019\n",
            "Epoch 25/100\n",
            "312/312 [==============================] - 1s 4ms/step - loss: 2.5887e-06 - val_loss: 0.0015\n",
            "Epoch 26/100\n",
            "312/312 [==============================] - 1s 4ms/step - loss: 2.6198e-06 - val_loss: 0.0021\n",
            "Epoch 27/100\n",
            "312/312 [==============================] - 1s 4ms/step - loss: 2.6508e-06 - val_loss: 0.0019\n",
            "Epoch 28/100\n",
            "312/312 [==============================] - 1s 4ms/step - loss: 2.7455e-06 - val_loss: 0.0017\n",
            "Epoch 29/100\n",
            "312/312 [==============================] - 1s 4ms/step - loss: 2.6188e-06 - val_loss: 0.0021\n",
            "Epoch 30/100\n",
            "312/312 [==============================] - 1s 4ms/step - loss: 2.8716e-06 - val_loss: 0.0020\n",
            "Epoch 31/100\n",
            "312/312 [==============================] - 1s 4ms/step - loss: 2.4839e-06 - val_loss: 0.0020\n",
            "Epoch 32/100\n",
            "312/312 [==============================] - 1s 4ms/step - loss: 2.4776e-06 - val_loss: 0.0021\n",
            "Epoch 33/100\n",
            "312/312 [==============================] - 1s 4ms/step - loss: 2.5153e-06 - val_loss: 0.0020\n",
            "Epoch 34/100\n",
            "312/312 [==============================] - 1s 4ms/step - loss: 2.5305e-06 - val_loss: 0.0019\n",
            "Epoch 35/100\n",
            "312/312 [==============================] - 1s 4ms/step - loss: 2.5404e-06 - val_loss: 0.0016\n",
            "Epoch 36/100\n",
            "312/312 [==============================] - 1s 4ms/step - loss: 2.5633e-06 - val_loss: 0.0014\n",
            "Epoch 37/100\n",
            "312/312 [==============================] - 1s 4ms/step - loss: 2.6326e-06 - val_loss: 0.0019\n",
            "Epoch 38/100\n",
            "312/312 [==============================] - 1s 4ms/step - loss: 2.7089e-06 - val_loss: 0.0016\n",
            "Epoch 39/100\n",
            "312/312 [==============================] - 1s 5ms/step - loss: 2.6036e-06 - val_loss: 0.0016\n",
            "Epoch 40/100\n",
            "312/312 [==============================] - 1s 4ms/step - loss: 2.7397e-06 - val_loss: 0.0017\n",
            "Epoch 41/100\n",
            "312/312 [==============================] - 1s 4ms/step - loss: 2.4060e-06 - val_loss: 0.0016\n",
            "Epoch 42/100\n",
            "312/312 [==============================] - 1s 4ms/step - loss: 2.4509e-06 - val_loss: 0.0018\n",
            "Epoch 43/100\n",
            "312/312 [==============================] - 1s 4ms/step - loss: 2.3514e-06 - val_loss: 0.0019\n",
            "Epoch 44/100\n",
            "312/312 [==============================] - 1s 4ms/step - loss: 2.4759e-06 - val_loss: 0.0017\n",
            "Epoch 45/100\n",
            "312/312 [==============================] - 1s 4ms/step - loss: 2.5497e-06 - val_loss: 0.0018\n",
            "Epoch 46/100\n",
            "312/312 [==============================] - 1s 4ms/step - loss: 2.3940e-06 - val_loss: 0.0019\n",
            "Epoch 47/100\n",
            "312/312 [==============================] - 1s 4ms/step - loss: 2.5211e-06 - val_loss: 0.0018\n",
            "Epoch 48/100\n",
            "312/312 [==============================] - 1s 4ms/step - loss: 2.4668e-06 - val_loss: 0.0017\n",
            "Epoch 49/100\n",
            "312/312 [==============================] - 1s 4ms/step - loss: 2.2495e-06 - val_loss: 0.0018\n",
            "Epoch 50/100\n",
            "312/312 [==============================] - 1s 5ms/step - loss: 2.3397e-06 - val_loss: 0.0018\n",
            "Epoch 51/100\n",
            "312/312 [==============================] - 2s 6ms/step - loss: 2.4774e-06 - val_loss: 0.0018\n",
            "Epoch 52/100\n",
            "312/312 [==============================] - 2s 6ms/step - loss: 2.5615e-06 - val_loss: 0.0014\n",
            "Epoch 53/100\n",
            "312/312 [==============================] - 1s 5ms/step - loss: 2.2744e-06 - val_loss: 0.0016\n",
            "Epoch 54/100\n",
            "312/312 [==============================] - 2s 5ms/step - loss: 2.4115e-06 - val_loss: 0.0021\n",
            "Epoch 55/100\n",
            "312/312 [==============================] - 1s 5ms/step - loss: 2.2637e-06 - val_loss: 0.0015\n",
            "Epoch 56/100\n",
            "312/312 [==============================] - 1s 4ms/step - loss: 2.1684e-06 - val_loss: 0.0014\n",
            "Epoch 57/100\n",
            "312/312 [==============================] - 1s 4ms/step - loss: 2.4844e-06 - val_loss: 0.0018\n",
            "Epoch 58/100\n",
            "312/312 [==============================] - 1s 4ms/step - loss: 2.4389e-06 - val_loss: 0.0017\n",
            "Epoch 59/100\n",
            "312/312 [==============================] - 1s 4ms/step - loss: 2.3757e-06 - val_loss: 0.0017\n",
            "Epoch 60/100\n",
            "312/312 [==============================] - 1s 4ms/step - loss: 2.2282e-06 - val_loss: 0.0013\n",
            "Epoch 61/100\n",
            "312/312 [==============================] - 1s 4ms/step - loss: 2.6333e-06 - val_loss: 0.0013\n",
            "Epoch 62/100\n",
            "312/312 [==============================] - 1s 4ms/step - loss: 2.4473e-06 - val_loss: 0.0020\n",
            "Epoch 63/100\n",
            "312/312 [==============================] - 1s 4ms/step - loss: 2.3505e-06 - val_loss: 0.0015\n",
            "Epoch 64/100\n",
            "312/312 [==============================] - 1s 4ms/step - loss: 2.4266e-06 - val_loss: 0.0015\n",
            "Epoch 65/100\n",
            "312/312 [==============================] - 1s 4ms/step - loss: 2.2934e-06 - val_loss: 0.0016\n",
            "Epoch 66/100\n",
            "312/312 [==============================] - 1s 4ms/step - loss: 2.3686e-06 - val_loss: 0.0015\n",
            "Epoch 67/100\n",
            "312/312 [==============================] - 1s 4ms/step - loss: 2.2461e-06 - val_loss: 0.0019\n",
            "Epoch 68/100\n",
            "312/312 [==============================] - 1s 4ms/step - loss: 2.5384e-06 - val_loss: 0.0015\n",
            "Epoch 69/100\n",
            "312/312 [==============================] - 1s 4ms/step - loss: 2.0892e-06 - val_loss: 0.0017\n",
            "Epoch 70/100\n",
            "312/312 [==============================] - 1s 4ms/step - loss: 2.1199e-06 - val_loss: 0.0015\n",
            "Epoch 71/100\n",
            "312/312 [==============================] - 1s 4ms/step - loss: 2.4452e-06 - val_loss: 0.0015\n",
            "Epoch 72/100\n",
            "312/312 [==============================] - 1s 4ms/step - loss: 2.1592e-06 - val_loss: 0.0014\n",
            "Epoch 73/100\n",
            "312/312 [==============================] - 1s 4ms/step - loss: 2.3194e-06 - val_loss: 0.0017\n",
            "Epoch 74/100\n",
            "312/312 [==============================] - 1s 4ms/step - loss: 2.3160e-06 - val_loss: 0.0014\n",
            "Epoch 75/100\n",
            "312/312 [==============================] - 1s 4ms/step - loss: 2.1082e-06 - val_loss: 0.0017\n",
            "Epoch 76/100\n",
            "312/312 [==============================] - 1s 4ms/step - loss: 2.2927e-06 - val_loss: 0.0012\n",
            "Epoch 77/100\n",
            "312/312 [==============================] - 1s 4ms/step - loss: 2.0810e-06 - val_loss: 0.0012\n",
            "Epoch 78/100\n",
            "312/312 [==============================] - 1s 4ms/step - loss: 2.2905e-06 - val_loss: 0.0014\n",
            "Epoch 79/100\n",
            "312/312 [==============================] - 1s 4ms/step - loss: 2.0680e-06 - val_loss: 0.0013\n",
            "Epoch 80/100\n",
            "312/312 [==============================] - 1s 4ms/step - loss: 2.2005e-06 - val_loss: 0.0017\n",
            "Epoch 81/100\n",
            "312/312 [==============================] - 1s 4ms/step - loss: 2.0362e-06 - val_loss: 0.0015\n",
            "Epoch 82/100\n",
            "312/312 [==============================] - 1s 4ms/step - loss: 2.3493e-06 - val_loss: 0.0014\n",
            "Epoch 83/100\n",
            "312/312 [==============================] - 1s 5ms/step - loss: 2.3162e-06 - val_loss: 0.0016\n",
            "Epoch 84/100\n",
            "312/312 [==============================] - 1s 4ms/step - loss: 2.0363e-06 - val_loss: 0.0013\n",
            "Epoch 85/100\n",
            "312/312 [==============================] - 1s 4ms/step - loss: 2.3851e-06 - val_loss: 0.0018\n",
            "Epoch 86/100\n",
            "312/312 [==============================] - 1s 4ms/step - loss: 2.4967e-06 - val_loss: 0.0014\n",
            "Epoch 87/100\n",
            "312/312 [==============================] - 1s 4ms/step - loss: 2.2611e-06 - val_loss: 0.0014\n",
            "Epoch 88/100\n",
            "312/312 [==============================] - 1s 4ms/step - loss: 2.3156e-06 - val_loss: 0.0018\n",
            "Epoch 89/100\n",
            "312/312 [==============================] - 1s 4ms/step - loss: 2.1946e-06 - val_loss: 0.0014\n",
            "Epoch 90/100\n",
            "312/312 [==============================] - 1s 4ms/step - loss: 2.2527e-06 - val_loss: 0.0016\n",
            "Epoch 91/100\n",
            "312/312 [==============================] - 1s 4ms/step - loss: 2.1895e-06 - val_loss: 0.0016\n",
            "Epoch 92/100\n",
            "312/312 [==============================] - 1s 4ms/step - loss: 2.4916e-06 - val_loss: 0.0012\n",
            "Epoch 93/100\n",
            "312/312 [==============================] - 1s 4ms/step - loss: 2.1850e-06 - val_loss: 0.0014\n",
            "Epoch 94/100\n",
            "312/312 [==============================] - 1s 4ms/step - loss: 2.3633e-06 - val_loss: 0.0014\n",
            "Epoch 95/100\n",
            "312/312 [==============================] - 2s 6ms/step - loss: 2.2116e-06 - val_loss: 0.0018\n",
            "Epoch 96/100\n",
            "312/312 [==============================] - 2s 6ms/step - loss: 2.1696e-06 - val_loss: 0.0017\n",
            "Epoch 97/100\n",
            "312/312 [==============================] - 1s 4ms/step - loss: 2.1810e-06 - val_loss: 0.0014\n",
            "Epoch 98/100\n",
            "312/312 [==============================] - 2s 6ms/step - loss: 2.3485e-06 - val_loss: 0.0015\n",
            "Epoch 99/100\n",
            "312/312 [==============================] - 2s 8ms/step - loss: 2.0865e-06 - val_loss: 0.0014\n",
            "Epoch 100/100\n",
            "312/312 [==============================] - 3s 9ms/step - loss: 2.4503e-06 - val_loss: 0.0015\n"
          ]
        },
        {
          "output_type": "execute_result",
          "data": {
            "text/plain": [
              "<keras.callbacks.History at 0x7fe44e1d0ed0>"
            ]
          },
          "metadata": {},
          "execution_count": 65
        }
      ]
    },
    {
      "cell_type": "markdown",
      "source": [
        "# Prediction phase"
      ],
      "metadata": {
        "id": "SZt-_-qHUzx0"
      }
    },
    {
      "cell_type": "code",
      "source": [
        "train_predict = model.predict(Xtrain)\n",
        "test_predict = model.predict(Xtest)"
      ],
      "metadata": {
        "id": "5C5u4RLMP_yb"
      },
      "execution_count": 66,
      "outputs": []
    },
    {
      "cell_type": "markdown",
      "source": [
        "### Here we are concatenating with an array of zeros since we know that our scaler requires a 2D input"
      ],
      "metadata": {
        "id": "Fvu4T1Q5WRX2"
      }
    },
    {
      "cell_type": "code",
      "source": [
        "train_predict = np.c_[train_predict,np.zeros(train_predict.shape)]\n",
        "test_predict = np.c_[test_predict,np.zeros(test_predict.shape)]"
      ],
      "metadata": {
        "id": "BXk_Xa5QP_7M"
      },
      "execution_count": 67,
      "outputs": []
    },
    {
      "cell_type": "markdown",
      "source": [
        "### To obtain the values on the right scale, we have to inverse transform the data"
      ],
      "metadata": {
        "id": "4oOOhKgcWkcB"
      }
    },
    {
      "cell_type": "code",
      "source": [
        "# to obtain the values on the right scale, we have to inverse transform the data\n",
        "train_predict = scaler.inverse_transform(train_predict)\n",
        "train_predict = [x[0] for x in train_predict]\n",
        "\n",
        "test_predict = scaler.inverse_transform(test_predict)\n",
        "test_predict = [x[0] for x in test_predict]"
      ],
      "metadata": {
        "id": "0OWdLqDLQAAu"
      },
      "execution_count": 68,
      "outputs": []
    },
    {
      "cell_type": "code",
      "source": [
        "print(train_predict[:5])\n",
        "print(test_predict[:5])"
      ],
      "metadata": {
        "id": "G5e_zHjMW53F",
        "outputId": "015a1b4a-1eb0-46b9-cfbf-3906f4262501",
        "colab": {
          "base_uri": "https://localhost:8080/"
        }
      },
      "execution_count": 69,
      "outputs": [
        {
          "output_type": "stream",
          "name": "stdout",
          "text": [
            "[-0.10202828925769768, -1.6319167200629845, -0.19658247788833247, 0.23495564642308853, -0.6569374600791424]\n",
            "[850.4776848086246, 851.0969187574393, 851.1586698495436, 850.3305604694709, 854.5967216526025]\n"
          ]
        }
      ]
    },
    {
      "cell_type": "code",
      "source": [
        "from sklearn.metrics import mean_squared_error\n",
        "\n",
        "train_score = mean_squared_error([x[0][0] for x in Xtrain],train_predict, squared=False)\n",
        "print('Train score: {}'.format(train_score))\n",
        "\n",
        "test_score = mean_squared_error([x[0][0] for x in Xtest],test_predict,squared=False)\n",
        "print('Test score: {}'.format(test_score))"
      ],
      "metadata": {
        "id": "I_hwAORGW6AT",
        "outputId": "292ced51-9c24-4f93-e047-a8f962eae09b",
        "colab": {
          "base_uri": "https://localhost:8080/"
        }
      },
      "execution_count": 70,
      "outputs": [
        {
          "output_type": "stream",
          "name": "stdout",
          "text": [
            "Train score: 245.30330733636356\n",
            "Test score: 2204.2157856358513\n"
          ]
        }
      ]
    },
    {
      "cell_type": "code",
      "source": [
        "#print(test_predict[:5])\n",
        "# generating the original btc price sequence\n",
        "original_stock_price[:5]"
      ],
      "metadata": {
        "id": "2ZfGhqBtW6IC",
        "outputId": "11042e21-009f-4534-e02d-cc9aa51e0311",
        "colab": {
          "base_uri": "https://localhost:8080/"
        }
      },
      "execution_count": 82,
      "outputs": [
        {
          "output_type": "execute_result",
          "data": {
            "text/plain": [
              "[852.4600219726562,\n",
              " 854.5900268554688,\n",
              " 852.530029296875,\n",
              " 852.969970703125,\n",
              " 853.4199829101562]"
            ]
          },
          "metadata": {},
          "execution_count": 82
        }
      ]
    },
    {
      "cell_type": "code",
      "source": [
        "# We now try to visualize our prediction along with the original data in order to see how well it performed!\n",
        "plt.figure(figsize=(11,8))\n",
        "plt.plot(original_stock_price,color='green',label='Original Stock price')\n",
        "plt.plot(test_predict,color='red',label='Predicted Stock price')\n",
        "plt.title('Bitcoin price prediction using LSTM')\n",
        "plt.xlabel('Daily timeframe')\n",
        "plt.ylabel('Price')\n",
        "plt.legend()\n",
        "plt.show()"
      ],
      "metadata": {
        "id": "cMIrG2ZsZnfr",
        "outputId": "eaabe3a6-f397-45bd-da0d-e05ed7cc0767",
        "colab": {
          "base_uri": "https://localhost:8080/",
          "height": 513
        }
      },
      "execution_count": 84,
      "outputs": [
        {
          "output_type": "display_data",
          "data": {
            "image/png": "[encoded data removed]",
            "text/plain": [
              "<Figure size 792x576 with 1 Axes>"
            ]
          },
          "metadata": {
            "needs_background": "light"
          }
        }
      ]
    },
    {
      "cell_type": "code",
      "source": [
        "print('Mic check 1..2..')\n",
        "model.save('keras_model.h5')"
      ],
      "metadata": {
        "id": "R4LMO7xSZnj9",
        "outputId": "32513545-0613-4316-ae49-c98bf1148dd2",
        "colab": {
          "base_uri": "https://localhost:8080/"
        }
      },
      "execution_count": 86,
      "outputs": [
        {
          "output_type": "stream",
          "name": "stdout",
          "text": [
            "Mic check 1..2..\n"
          ]
        }
      ]
    },
    {
      "cell_type": "code",
      "source": [
        ""
      ],
      "metadata": {
        "id": "N43wi_ozVmGY"
      },
      "execution_count": null,
      "outputs": []
    }
  ]
}